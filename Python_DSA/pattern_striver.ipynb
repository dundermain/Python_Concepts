{
 "cells": [
  {
   "cell_type": "markdown",
   "metadata": {},
   "source": [
    "Patterns\n",
    "Youtube Link: https://www.youtube.com/watch?v=tNm_NNSB3_w&t=1s\n",
    "\n",
    "For every pattern follow these rules:\n",
    "1. There has to be one inner loop and one outer loop. Fine the number of lines to be printed in outer loop\n",
    "2. Find the number of lines to be printed in outer loop and somehow find the connection with the inner loop\n",
    "3. Print the pattern in the inner loop\n",
    "4. Observe symmetry "
   ]
  },
  {
   "cell_type": "code",
   "execution_count": 42,
   "metadata": {},
   "outputs": [
    {
     "name": "stdout",
     "output_type": "stream",
     "text": [
      "            * \n",
      "          * * * \n",
      "        * * * * * \n",
      "      * * * * * * * \n",
      "    * * * * * * * * * \n",
      "  * * * * * * * * * * * \n"
     ]
    }
   ],
   "source": [
    "\"\"\"\n",
    "Print this pattern\n",
    "\n",
    "    *  \n",
    "   ***\n",
    "  *****\n",
    " *******\n",
    "\n",
    "The flow is something like this, we will print blank space one by one and then print the pattern\n",
    "\n",
    "\"\"\"\n",
    "n = 6\n",
    "for i in range(n):\n",
    "    for j in range(n-i):\n",
    "        print(\" \", end=\" \")\n",
    "    for k in range(2*i+1):\n",
    "        print(\"*\",end=\" \")\n",
    "    print()\n",
    "    \n",
    "    \n"
   ]
  },
  {
   "cell_type": "code",
   "execution_count": 84,
   "metadata": {},
   "outputs": [
    {
     "name": "stdout",
     "output_type": "stream",
     "text": [
      "1******1\n",
      "12****21\n",
      "123**321\n",
      "12344321\n"
     ]
    }
   ],
   "source": [
    "\"\"\"\n",
    "print this pattern\n",
    "\n",
    "1      1\n",
    "12    21\n",
    "123  321\n",
    "12344321\n",
    "\n",
    "\n",
    "\"\"\"\n",
    "\n",
    "for i in range(1,5):\n",
    "    for j in range(1,i+1):\n",
    "        print(j,end=\"\")\n",
    "    \n",
    "    print(2*(4-i)*\"*\", end=\"\")\n",
    "\n",
    "    for k in range(i,0,-1):\n",
    "        print(k,end=\"\")\n",
    "\n",
    "    print()\n",
    "\n",
    "\n"
   ]
  },
  {
   "cell_type": "code",
   "execution_count": 97,
   "metadata": {},
   "outputs": [
    {
     "name": "stdout",
     "output_type": "stream",
     "text": [
      "1 \n",
      "2 3 \n",
      "4 5 6 \n",
      "7 8 9 10 \n",
      "11 12 13 14 15 \n"
     ]
    }
   ],
   "source": [
    "\"\"\"\n",
    "print this pattern\n",
    "\n",
    "1\n",
    "2 3\n",
    "4 5 6\n",
    "7 8 9 10\n",
    "11 12 13 14 15\n",
    "\n",
    "\"\"\"\n",
    "\n",
    "num = 1\n",
    "for i in range(5):\n",
    "    for j in range(i+1):\n",
    "        print(num, end=\" \")\n",
    "        num+=1\n",
    "    print()\n",
    "    "
   ]
  },
  {
   "cell_type": "code",
   "execution_count": 102,
   "metadata": {},
   "outputs": [
    {
     "name": "stdout",
     "output_type": "stream",
     "text": [
      "A \n",
      "A B \n",
      "A B C \n",
      "A B C D \n",
      "A B C D E \n",
      "A B C D E F \n"
     ]
    }
   ],
   "source": [
    "\"\"\"\n",
    "print this pattern\n",
    "\n",
    "A\n",
    "A B\n",
    "A B C\n",
    "A B C D\n",
    "A B C D E\n",
    "\n",
    "\"\"\"\n",
    "\n",
    "for i in range(6):\n",
    "    for j in range(i+1):\n",
    "        print(chr(65+j), end=\" \")\n",
    "        \n",
    "    print()\n",
    "\n",
    "\n",
    "\n"
   ]
  },
  {
   "cell_type": "code",
   "execution_count": 114,
   "metadata": {},
   "outputs": [
    {
     "name": "stdout",
     "output_type": "stream",
     "text": [
      "F E D C B A \n",
      "E D C B A \n",
      "D C B A \n",
      "C B A \n",
      "B A \n",
      "A \n"
     ]
    }
   ],
   "source": [
    "\"\"\"\n",
    "print this pattern\n",
    "\n",
    "F E D C B A \n",
    "E D C B A \n",
    "D C B A \n",
    "C B A \n",
    "B A \n",
    "A\n",
    "\n",
    "\"\"\"\n",
    "\n",
    "for i in range(5,-1,-1):\n",
    "    for j in range(i,-1,-1):\n",
    "        print(chr(65+j), end=\" \")\n",
    "\n",
    "    print()"
   ]
  },
  {
   "cell_type": "code",
   "execution_count": 115,
   "metadata": {},
   "outputs": [
    {
     "name": "stdout",
     "output_type": "stream",
     "text": [
      "A B C D E \n",
      "A B C D \n",
      "A B C \n",
      "A B \n",
      "A \n",
      "\n"
     ]
    }
   ],
   "source": [
    "\"\"\"\n",
    "print this pattern\n",
    "\n",
    "A B C D E\n",
    "A B C D\n",
    "A B C\n",
    "A B\n",
    "A\n",
    "\n",
    "\"\"\"\n",
    "for i in range(5,-1,-1):\n",
    "    for j in range(i):\n",
    "        print(chr(65+j), end=\" \")\n",
    "\n",
    "    print()"
   ]
  },
  {
   "cell_type": "code",
   "execution_count": 116,
   "metadata": {},
   "outputs": [
    {
     "name": "stdout",
     "output_type": "stream",
     "text": [
      "A \n",
      "B B \n",
      "C C C \n",
      "D D D D \n",
      "E E E E E \n"
     ]
    }
   ],
   "source": [
    "\"\"\"\n",
    "print this pattern\n",
    "\n",
    "A\n",
    "B B\n",
    "C C C\n",
    "D D D D\n",
    "E E E E E\n",
    "\n",
    "\"\"\" \n",
    "\n",
    "for i in range(5):\n",
    "    for j in range(i+1):\n",
    "        print(chr(65+i), end=\" \")\n",
    "        \n",
    "    print()\n"
   ]
  },
  {
   "cell_type": "code",
   "execution_count": null,
   "metadata": {},
   "outputs": [],
   "source": [
    "\"\"\"\n",
    "print this pattern\n",
    "\n",
    "     A\n",
    "   A B A\n",
    " A B C B A\n",
    "A B C D C B A\n",
    "\n",
    "\"\"\" \n",
    "\n",
    "for i in range()"
   ]
  },
  {
   "cell_type": "code",
   "execution_count": 147,
   "metadata": {},
   "outputs": [
    {
     "name": "stdout",
     "output_type": "stream",
     "text": [
      "      1 \n",
      "    1 2 1 \n",
      "  1 2 3 1 2 \n",
      "1 2 3 4 1 2 3 \n"
     ]
    }
   ],
   "source": [
    "\"\"\"\n",
    "print this pattern\n",
    "\n",
    "     1\n",
    "   1 2 1\n",
    " 1 2 3 2 1\n",
    "1 2 3 4 3 2 1\n",
    "\n",
    "\"\"\" \n",
    "\n",
    "for i in range(4):\n",
    "    for j in range(3-i):\n",
    "        print(\" \", end=' ')  \n",
    "    for k in range(i+1):\n",
    "        print(k+1, end=\" \")\n",
    "    for l in range(i):\n",
    "        print(l+1, end=\" \")\n",
    "    \n",
    "    print()"
   ]
  },
  {
   "cell_type": "code",
   "execution_count": 201,
   "metadata": {},
   "outputs": [
    {
     "name": "stdout",
     "output_type": "stream",
     "text": [
      "E \n",
      "D E \n",
      "C D E \n",
      "B C D E \n",
      "A B C D E \n"
     ]
    }
   ],
   "source": [
    "\"\"\"\n",
    "print this pattern\n",
    "\n",
    "E\n",
    "D E\n",
    "C D E\n",
    "B C D E\n",
    "A B C D E\n",
    "\n",
    "\"\"\" \n",
    "num = 4\n",
    "for i in range(5):\n",
    "    for j in range(i+1):\n",
    "        print(chr(65+num - i + j), end=\" \")\n",
    "    print()\n"
   ]
  },
  {
   "cell_type": "code",
   "execution_count": 230,
   "metadata": {},
   "outputs": [
    {
     "name": "stdout",
     "output_type": "stream",
     "text": [
      "* * * * * * * * * * * * \n",
      "* * * * *     * * * * * \n",
      "* * * *         * * * * \n",
      "* * *             * * * \n",
      "* *                 * * \n",
      "*                     * \n",
      "*                     * \n",
      "* *                 * * \n",
      "* * *             * * * \n",
      "* * * *         * * * * \n",
      "* * * * *     * * * * * \n",
      "* * * * * * * * * * * * \n"
     ]
    }
   ],
   "source": [
    "\"\"\"\n",
    "print this pattern\n",
    "\n",
    "* * * * * * * * * * * *\n",
    "* * * * *    * * * * * \n",
    "* * * *        * * * *\n",
    "* * *            * * *\n",
    "* *                * *\n",
    "*                    *\n",
    "*                    *\n",
    "* *                * *\n",
    "* * *            * * *\n",
    "* * * *        * * * *\n",
    "* * * * *    * * * * * \n",
    "* * * * * * * * * * *\n",
    "\n",
    "\n",
    "\"\"\"\n",
    "\n",
    "for i in range(6):\n",
    "    for j in range(6,i, -1):\n",
    "        print(\"*\", end=\" \")\n",
    "    \n",
    "    for k in range(i*2):\n",
    "        print(\" \", end=\" \")\n",
    "\n",
    "    for l in range(6,i, -1):\n",
    "        print(\"*\", end=\" \")\n",
    "    \n",
    "    print()\n",
    "\n",
    "for m in range(6):\n",
    "    for n in range(m+1):\n",
    "        print(\"*\", end=\" \")\n",
    "    for o in range((5-m)*2):\n",
    "        print(\" \", end=\" \")\n",
    "    for p in range(m+1):\n",
    "        print(\"*\", end=\" \")\n",
    "    print()\n",
    "\n",
    "\n",
    "       "
   ]
  },
  {
   "cell_type": "code",
   "execution_count": 234,
   "metadata": {},
   "outputs": [
    {
     "name": "stdout",
     "output_type": "stream",
     "text": [
      "*                 * \n",
      "* *             * * \n",
      "* * *         * * * \n",
      "* * * *     * * * * \n",
      "* * * * * * * * * * \n",
      "* * * * * * * * * * \n",
      "* * * *     * * * * \n",
      "* * *         * * * \n",
      "* *             * * \n",
      "*                 * \n"
     ]
    }
   ],
   "source": [
    "\"\"\"\n",
    "print this pattern\n",
    "\n",
    "*                 * \n",
    "* *             * * \n",
    "* * *         * * * \n",
    "* * * *     * * * * \n",
    "* * * * * * * * * * \n",
    "* * * * * * * * * * \n",
    "* * * *     * * * * \n",
    "* * *         * * * \n",
    "* *             * * \n",
    "*                 * \n",
    "\n",
    "\"\"\"\n",
    "\n",
    "for i in range(5):\n",
    "    for j in range(i+1):\n",
    "        print(\"*\", end=\" \")\n",
    "    for k in range((4-i)*2):\n",
    "        print(\" \", end=\" \")\n",
    "    for l in range(i+1):\n",
    "        print(\"*\", end=\" \")\n",
    "    print()\n",
    "\n",
    "for m in range(5):\n",
    "    for n in range(5-m):\n",
    "        print(\"*\", end=\" \")\n",
    "    for o in range(m*2):\n",
    "        print(\" \", end=\" \")\n",
    "    for p in range(5-m):\n",
    "        print(\"*\", end=\" \")\n",
    "    print()"
   ]
  },
  {
   "cell_type": "code",
   "execution_count": 265,
   "metadata": {},
   "outputs": [
    {
     "name": "stdout",
     "output_type": "stream",
     "text": [
      "* * * * \n",
      "*     * \n",
      "*     * \n",
      "* * * * \n"
     ]
    }
   ],
   "source": [
    "\"\"\"\n",
    "Print this pattern\n",
    "\n",
    "* * * * \n",
    "*     *\n",
    "*     *\n",
    "* * * *\n",
    "\n",
    "\"\"\"\n",
    "\n",
    "n = 4\n",
    "for i in range(n):\n",
    "    for j in range(4):\n",
    "        if i in [0, n - 1]:\n",
    "            print(\"*\", end=\" \")\n",
    "        elif j in [0, n - 1]:\n",
    "            print(\"*\", end=\" \")\n",
    "        else:\n",
    "            print(\" \", end=\" \")\n",
    "    print()\n",
    "\n",
    "\n",
    "\n"
   ]
  },
  {
   "cell_type": "code",
   "execution_count": 279,
   "metadata": {},
   "outputs": [
    {
     "name": "stdout",
     "output_type": "stream",
     "text": [
      "4 4 4 4 4 4 4 \n",
      "4 3 3 3 3 3 4 \n",
      "4 3 2 2 2 3 4 \n",
      "4 3 2 1 2 3 4 \n",
      "4 3 2 2 2 3 4 \n",
      "4 3 3 3 3 3 4 \n",
      "4 4 4 4 4 4 4 \n",
      "\n",
      "Another method\n",
      "\n",
      "4 4 4 4 4 4 4 \n",
      "4 3 3 3 3 3 4 \n",
      "4 3 2 2 2 3 4 \n",
      "4 3 2 1 2 3 4 \n",
      "4 3 2 2 2 3 4 \n",
      "4 3 3 3 3 3 4 \n",
      "4 4 4 4 4 4 4 \n"
     ]
    }
   ],
   "source": [
    "\"\"\"\n",
    "\n",
    "Print this pattern\n",
    "\n",
    "4 4 4 4 4 4 4\n",
    "4 3 3 3 3 3 4\n",
    "4 3 2 2 2 3 4\n",
    "4 3 2 1 2 3 4\n",
    "4 3 2 2 2 3 4\n",
    "4 3 3 3 3 3 4\n",
    "4 4 4 4 4 4 4\n",
    "\n",
    "\"\"\"\n",
    "\n",
    "n=4\n",
    "for i in range(2*n-1):\n",
    "    for j in range(2*n-1):\n",
    "        if i==0 or i==6 or j==0 or j==6:\n",
    "            print(\"4\", end=\" \")\n",
    "        elif i==1 or i==5 or j==1 or j==5:\n",
    "            print(\"3\", end=\" \")\n",
    "        elif i==2 or i==4 or j==2 or j==4:\n",
    "            print(\"2\", end=\" \")\n",
    "        else:\n",
    "            print(\"1\", end=\" \")\n",
    "\n",
    "    print()\n",
    "\n",
    "print()\n",
    "print(\"Another method\")\n",
    "print()\n",
    "\n",
    "for i in range(2*n-1):\n",
    "    for j in range(2*n-1):\n",
    "        top = i\n",
    "        bottom = 2*(n-1) - i\n",
    "        left = j\n",
    "        right = 2*(n-1) - j\n",
    "\n",
    "        print(n - min(top, bottom, left, right), end=\" \")\n",
    "    print()\n",
    "\n",
    "\n"
   ]
  },
  {
   "cell_type": "code",
   "execution_count": 35,
   "metadata": {},
   "outputs": [],
   "source": [
    "def nNumberTriangle(n: int) -> None:\n",
    "    # Write your solution here.\n",
    "\n",
    "    for i in range(n):\n",
    "        for j in range(n, i, -1):\n",
    "            print(n-j+1,end=\" \")\n",
    "        print()\n",
    "    pass"
   ]
  },
  {
   "cell_type": "code",
   "execution_count": 36,
   "metadata": {},
   "outputs": [
    {
     "name": "stdout",
     "output_type": "stream",
     "text": [
      "1 2 3 4 5 \n",
      "1 2 3 4 \n",
      "1 2 3 \n",
      "1 2 \n",
      "1 \n"
     ]
    }
   ],
   "source": [
    "nNumberTriangle(5)"
   ]
  },
  {
   "cell_type": "code",
   "execution_count": null,
   "metadata": {},
   "outputs": [],
   "source": []
  }
 ],
 "metadata": {
  "kernelspec": {
   "display_name": "Python 3",
   "language": "python",
   "name": "python3"
  },
  "language_info": {
   "codemirror_mode": {
    "name": "ipython",
    "version": 3
   },
   "file_extension": ".py",
   "mimetype": "text/x-python",
   "name": "python",
   "nbconvert_exporter": "python",
   "pygments_lexer": "ipython3",
   "version": "3.10.11"
  },
  "orig_nbformat": 4
 },
 "nbformat": 4,
 "nbformat_minor": 2
}
