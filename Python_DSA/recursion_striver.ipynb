{
 "cells": [
  {
   "cell_type": "code",
   "execution_count": null,
   "metadata": {},
   "outputs": [],
   "source": [
    "\"\"\"\n",
    "Recurion Problems: When function calls itself\n",
    "\n",
    "Some basics:\n",
    "Every recursion should have:\n",
    "1. One base condition\n",
    "2. One termination condition\n",
    "3. Recursion condition\n",
    "\n",
    "\n",
    "https://www.youtube.com/playlist?list=PLgUwDviBIf0rGlzIn_7rsaR2FQ5e6ZOL9\n",
    "\n",
    "\"\"\""
   ]
  },
  {
   "cell_type": "code",
   "execution_count": 2,
   "metadata": {},
   "outputs": [
    {
     "name": "stdout",
     "output_type": "stream",
     "text": [
      "Sachin\n",
      "Sachin\n",
      "Sachin\n",
      "Sachin\n",
      "Sachin\n"
     ]
    }
   ],
   "source": [
    "\"\"\" \n",
    "print name n time using recursion\n",
    "\"\"\"\n",
    "\n",
    "def name(n):\n",
    "    if n==0:\n",
    "        return\n",
    "    print(\"Sachin\")\n",
    "    name(n-1)\n",
    "\n"
   ]
  },
  {
   "cell_type": "code",
   "execution_count": 3,
   "metadata": {},
   "outputs": [
    {
     "name": "stdout",
     "output_type": "stream",
     "text": [
      "1\n",
      "2\n",
      "3\n",
      "4\n",
      "5\n"
     ]
    }
   ],
   "source": [
    "\"\"\"\n",
    "\n",
    "print 1 to n usinfg recursion\n",
    "\n",
    "\n",
    "\"\"\"\n",
    "\n",
    "def recurse_number(n, stop):\n",
    "    if n==stop+1:\n",
    "        return stop\n",
    "    print(n)\n",
    "    recurse_number(n+1, stop)\n",
    "\n",
    "recurse_number(1,5)"
   ]
  },
  {
   "cell_type": "code",
   "execution_count": 3,
   "metadata": {},
   "outputs": [
    {
     "name": "stdout",
     "output_type": "stream",
     "text": [
      "5\n",
      "4\n",
      "3\n",
      "2\n",
      "1\n"
     ]
    }
   ],
   "source": [
    "\"\"\"\n",
    "\n",
    "print n to 1 usinfg recursion\n",
    "\n",
    "\n",
    "\"\"\"\n",
    "\n",
    "def recurse_number(n, stop):\n",
    "    if n==stop-1:\n",
    "        return\n",
    "    print(n)\n",
    "    recurse_number(n-1, stop)\n",
    "\n",
    "recurse_number(5, 1)"
   ]
  },
  {
   "cell_type": "code",
   "execution_count": 4,
   "metadata": {},
   "outputs": [
    {
     "name": "stdout",
     "output_type": "stream",
     "text": [
      "1\n",
      "2\n",
      "3\n",
      "4\n",
      "5\n"
     ]
    }
   ],
   "source": [
    "'''\n",
    "Back tracking in recursion means using recursion fnction without increment\n",
    "\n",
    "'''\n",
    "\n",
    "\n",
    "#print from 1 to n using backtracking\n",
    "\n",
    "\n",
    "def recurse_backtrac(n,m):\n",
    "    if n<1:\n",
    "        return\n",
    "    recurse_backtrac(n-1,m)\n",
    "    print(n)\n",
    "\n",
    "\n",
    "recurse_backtrac(5, 5)"
   ]
  },
  {
   "cell_type": "code",
   "execution_count": 7,
   "metadata": {},
   "outputs": [
    {
     "name": "stdout",
     "output_type": "stream",
     "text": [
      "5\n",
      "4\n",
      "3\n",
      "2\n",
      "1\n"
     ]
    }
   ],
   "source": [
    "#print from n to 1 using backtracking\n",
    "\n",
    "def recurse_backtrack(n,m):\n",
    "    if n>m:\n",
    "        return\n",
    "    \n",
    "    recurse_backtrack(n+1,m)\n",
    "    print(n)\n",
    "\n",
    "\n",
    "recurse_backtrack(1, 5)"
   ]
  },
  {
   "cell_type": "code",
   "execution_count": 2,
   "metadata": {},
   "outputs": [
    {
     "data": {
      "text/plain": [
       "15"
      ]
     },
     "execution_count": 2,
     "metadata": {},
     "output_type": "execute_result"
    }
   ],
   "source": [
    "#summation of first n numbers\n",
    "\n",
    "def recur_sum(n):\n",
    "   if n <= 1:\n",
    "       return n\n",
    "   else:\n",
    "       return n + recur_sum(n-1)\n",
    "\n",
    "recur_sum(5)"
   ]
  },
  {
   "cell_type": "code",
   "execution_count": 1,
   "metadata": {},
   "outputs": [
    {
     "data": {
      "text/plain": [
       "120"
      ]
     },
     "execution_count": 1,
     "metadata": {},
     "output_type": "execute_result"
    }
   ],
   "source": [
    "#factorial of n number\n",
    "\n",
    "def factorial(n):\n",
    "    if n==1 or n==0:\n",
    "        return 1\n",
    "    else:\n",
    "        return n * factorial(n-1)\n",
    "    \n",
    "factorial(5)"
   ]
  },
  {
   "cell_type": "code",
   "execution_count": 15,
   "metadata": {},
   "outputs": [
    {
     "name": "stdout",
     "output_type": "stream",
     "text": [
      "[1, 2, 3, 4, 5] [1]\n",
      "[2, 3, 4, 5] [2]\n",
      "[3, 4, 5] [3]\n",
      "[4, 5] [4]\n"
     ]
    },
    {
     "data": {
      "text/plain": [
       "[5, 4, 3, 2, 1]"
      ]
     },
     "execution_count": 15,
     "metadata": {},
     "output_type": "execute_result"
    }
   ],
   "source": [
    "#reverse an array\n",
    "\n",
    "def reverse(arr):\n",
    "    if len(arr) == 1:\n",
    "        return arr\n",
    "    else:\n",
    "        print(arr, arr[0:1])\n",
    "        return reverse(arr[1:]) + arr[0:1]\n",
    "        print(arr[0:1])\n",
    "\n",
    "reverse([1,2,3,4,5])\n",
    "\n",
    "\n",
    "#I was not able to solve this because of array comprehension. arr[i] will return an element but arr[0:i] will return array"
   ]
  },
  {
   "cell_type": "code",
   "execution_count": 20,
   "metadata": {},
   "outputs": [
    {
     "name": "stdout",
     "output_type": "stream",
     "text": [
      "rfmadamfr\n",
      "fmadamf\n",
      "madam\n",
      "ada\n",
      "d\n"
     ]
    },
    {
     "data": {
      "text/plain": [
       "True"
      ]
     },
     "execution_count": 20,
     "metadata": {},
     "output_type": "execute_result"
    }
   ],
   "source": [
    "#check if string is pallindrome or not\n",
    "\n",
    "def pallindrome(str):\n",
    "    if len(str) == 1:\n",
    "        return True\n",
    "    else:\n",
    "        if str[0] == str[-1]:\n",
    "            print(str[1:-1])\n",
    "            return pallindrome(str[1:-1])\n",
    "        else:\n",
    "            return False\n",
    "        \n",
    "pallindrome(\"erfmadamfre\")"
   ]
  },
  {
   "cell_type": "code",
   "execution_count": 23,
   "metadata": {},
   "outputs": [
    {
     "data": {
      "text/plain": [
       "5"
      ]
     },
     "execution_count": 23,
     "metadata": {},
     "output_type": "execute_result"
    }
   ],
   "source": [
    "#fibonacci sequence\n",
    "\n",
    "def fibo(n):\n",
    "    if n<=1:\n",
    "        return n\n",
    "    else:\n",
    "        return fibo(n-2) + fibo(n-1)\n",
    "    \n",
    "fibo(5)\n",
    "\n",
    "#for multiple recursion, time complexity is O(branche^depth)"
   ]
  },
  {
   "cell_type": "code",
   "execution_count": 4,
   "metadata": {},
   "outputs": [
    {
     "name": "stdout",
     "output_type": "stream",
     "text": [
      "[3, 1, 2]\n",
      "[3, 1]\n",
      "[3, 2]\n",
      "[3]\n",
      "[1, 2]\n",
      "[1]\n",
      "[2]\n",
      "[]\n"
     ]
    }
   ],
   "source": [
    "#print all subsequences which follows the order\n",
    "# https://www.youtube.com/watch?v=AxNNVECce8c&list=PLgUwDviBIf0rGlzIn_7rsaR2FQ5e6ZOL9&index=6\n",
    "\n",
    "'''\n",
    "The algorithm flow is something like this:\n",
    "We write a function which will take the starting index and and empty array. \n",
    "then the function will call itself with index +1. Put the print command if index > number of elements in given array.\n",
    "now remove the last element and call the function again with index +1\n",
    "\n",
    "\n",
    "'''\n",
    "\n",
    "\"\"\" \n",
    "print all the subsequences both contigous and non contiguous\n",
    "\n",
    "\"\"\"\n",
    "arr = [3,1,2]\n",
    "result_arr = []\n",
    "\n",
    "\n",
    "\n",
    "def subsequence(arr, start, result_arr):\n",
    "    if start >= len(arr):\n",
    "        print(result_arr)\n",
    "    \n",
    "    else:\n",
    "        result_arr.append(arr[start])\n",
    "        subsequence(arr, start+1, result_arr)\n",
    "        result_arr.pop()\n",
    "        subsequence(arr, start+1, result_arr)\n",
    "\n",
    "\n",
    "subsequence(arr, 0, result_arr)\n"
   ]
  },
  {
   "cell_type": "code",
   "execution_count": 25,
   "metadata": {},
   "outputs": [
    {
     "name": "stdout",
     "output_type": "stream",
     "text": [
      "[0, 1, 4]\n",
      "[0, 2, 3]\n",
      "[0, 5]\n",
      "[1, 4]\n",
      "[2, 3]\n",
      "[5]\n"
     ]
    }
   ],
   "source": [
    "#printing subsequences whose sum is K\n",
    "#https://www.youtube.com/watch?v=eQCS_v3bw0Q&list=PLgUwDviBIf0rGlzIn_7rsaR2FQ5e6ZOL9&index=7\n",
    "\n",
    "arr = [0, 1, 2, 3, 4, 5]\n",
    "sum_arr = 0\n",
    "result_arr =[]\n",
    "desired_sum = 5\n",
    "\n",
    "def subsequence_sum(arr, sum_arr, start, result_arr, desired_sum):\n",
    "    if start >= len(arr):\n",
    "        if sum_arr == desired_sum:\n",
    "            print(result_arr)\n",
    "            \n",
    "    \n",
    "    else:\n",
    "        result_arr.append(arr[start])\n",
    "        sum_arr += arr[start]\n",
    "        subsequence_sum(arr, sum_arr, start+1, result_arr, desired_sum)\n",
    "        \n",
    "        result_arr.pop()\n",
    "        sum_arr-= arr[start]\n",
    "        subsequence_sum(arr, sum_arr, start+1, result_arr, desired_sum)\n",
    "\n",
    "\n",
    "\n",
    "\n",
    "\n",
    "subsequence_sum(arr, sum, 0, result_arr, desired_sum)\n"
   ]
  },
  {
   "cell_type": "code",
   "execution_count": 24,
   "metadata": {},
   "outputs": [
    {
     "name": "stdout",
     "output_type": "stream",
     "text": [
      "[0, 1, 4]\n"
     ]
    },
    {
     "data": {
      "text/plain": [
       "True"
      ]
     },
     "execution_count": 24,
     "metadata": {},
     "output_type": "execute_result"
    }
   ],
   "source": [
    "#printing only one subsequences whose sum is K\n",
    "#https://www.youtube.com/watch?v=eQCS_v3bw0Q&list=PLgUwDviBIf0rGlzIn_7rsaR2FQ5e6ZOL9&index=7\n",
    "\n",
    "\n",
    "\n",
    "arr = [0, 1, 2, 3, 4, 5]\n",
    "sum_arr = 0\n",
    "result_arr =[]\n",
    "desired_sum = 5\n",
    "\n",
    "def subsequence_sum(arr, sum_arr, start, result_arr, desired_sum):\n",
    "    if start >= len(arr):\n",
    "        if sum_arr == desired_sum:\n",
    "            print(result_arr)\n",
    "            return True\n",
    "        else:\n",
    "            return False\n",
    "            \n",
    "    \n",
    "    else:\n",
    "        result_arr.append(arr[start])\n",
    "        sum_arr += arr[start]\n",
    "        if subsequence_sum(arr, sum_arr, start+1, result_arr, desired_sum) == True:\n",
    "            return True\n",
    "        \n",
    "\n",
    "        result_arr.pop()\n",
    "        sum_arr-= arr[start]\n",
    " \n",
    "        if subsequence_sum(arr, sum_arr, start+1, result_arr, desired_sum) == True:\n",
    "            return True\n",
    "\n",
    "\n",
    "\n",
    "\n",
    "\n",
    "subsequence_sum(arr, sum, 0, result_arr, desired_sum)\n",
    "\n",
    "#return True will stop the function and return False will continue"
   ]
  },
  {
   "cell_type": "code",
   "execution_count": 40,
   "metadata": {},
   "outputs": [
    {
     "data": {
      "text/plain": [
       "6"
      ]
     },
     "execution_count": 40,
     "metadata": {},
     "output_type": "execute_result"
    }
   ],
   "source": [
    "#printing the number of subsequences whose sum is K\n",
    "#https://www.youtube.com/watch?v=eQCS_v3bw0Q&list=PLgUwDviBIf0rGlzIn_7rsaR2FQ5e6ZOL9&index=7\n",
    "\n",
    "arr = [0, 1, 2, 3, 4, 5]\n",
    "sum_arr = 0\n",
    "desired_sum = 5\n",
    "result_arr = []\n",
    "\n",
    "def subsequence_sum(arr, sum_arr, start, desired_sum):\n",
    "    if start >= len(arr):\n",
    "        if sum_arr == desired_sum:\n",
    "            return 1\n",
    "        else:\n",
    "            return 0\n",
    "            \n",
    "    \n",
    "    else:\n",
    "        result_arr.append(arr[start])\n",
    "        sum_arr += arr[start]\n",
    "        l = subsequence_sum(arr, sum_arr, start+1, desired_sum)\n",
    "        \n",
    "        result_arr.pop()\n",
    "        sum_arr-= arr[start]\n",
    "        r = subsequence_sum(arr, sum_arr, start+1,  desired_sum)\n",
    "\n",
    "        return l+r\n",
    "\n",
    "\n",
    "\n",
    "subsequence_sum(arr, sum, 0, desired_sum)\n",
    "\n",
    "\n",
    "#we donot need result arr as we dont need to print it\n",
    "#the trick is we have to count the occurences in all the recursion both left and right recursion\n"
   ]
  }
 ],
 "metadata": {
  "kernelspec": {
   "display_name": "Python 3",
   "language": "python",
   "name": "python3"
  },
  "language_info": {
   "codemirror_mode": {
    "name": "ipython",
    "version": 3
   },
   "file_extension": ".py",
   "mimetype": "text/x-python",
   "name": "python",
   "nbconvert_exporter": "python",
   "pygments_lexer": "ipython3",
   "version": "3.10.11"
  },
  "orig_nbformat": 4
 },
 "nbformat": 4,
 "nbformat_minor": 2
}
