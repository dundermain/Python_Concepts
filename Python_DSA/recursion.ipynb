{
 "cells": [
  {
   "attachments": {},
   "cell_type": "markdown",
   "metadata": {},
   "source": [
    "Recursion would require a base case, a recursive case and exit case or the constraint cases."
   ]
  },
  {
   "cell_type": "code",
   "execution_count": null,
   "metadata": {},
   "outputs": [],
   "source": [
    "def factorial(x):\n",
    "    assert x >= 0 and int(x) == x, 'The number must be positive interger only' #this is constraint case\n",
    "    if n in [0,1]:\n",
    "        return 1            #this is base case\n",
    "    else:\n",
    "        return x*factorial(x-1)  #recursive case\n",
    "\n",
    "\n",
    "#How to find the time complexity of recursive functions\n",
    "#We will assume that recursive function has M(n) time complexity. Then the recursive algorithm will be something like this\n",
    "\n",
    "'''\n",
    "def recursive_foo(x):  #time complexity of M(n)\n",
    "    some base constraint  #time complexity of O(1)\n",
    "\n",
    "    return x*recursive_foo(x-1)    #time compplexity if M(n-1)\n",
    "\n",
    "now M(n) = O(1) + M(n-1)\n",
    "similarly M(n-1) = O(1) + M(n-2)\n",
    "and M(n-2) = O(1) + M(n-3)\n",
    "\n",
    "if we assume O(1) to be 1, we will get M(n) = 1 + M(n-1)\n",
    "similarly M(n) = 3 + M(n-3)\n",
    "\n",
    "asuming 3 to be a \n",
    "we will have M(n) = a + M(n-a)\n",
    "\n",
    "substituting a with n-1:\n",
    "we have M(n) = n - 1 + 1 = n\n",
    "\n",
    "'''"
   ]
  },
  {
   "attachments": {},
   "cell_type": "markdown",
   "metadata": {},
   "source": [
    "\n",
    "WHat will be the time complexity if we recursive algo makes multiple calls\n",
    "\n",
    "example:\n",
    "\n",
    "def foo(n):\n",
    "    if n<=1:\n",
    "        return 1\n",
    "    return f(n-1) + f(n-1)  #recursion getting called multiple times\n",
    "\n",
    "in this case;\n",
    "    the time complexity will be O(2^n)\n",
    "\n",
    "\n",
    "golden rule that can be used is \n",
    "\n",
    "\n"
   ]
  },
  {
   "attachments": {},
   "cell_type": "markdown",
   "metadata": {},
   "source": [
    "ONe thing to remember here is that recursion saves or stores the outputs of each intermediate recursion step. Hence, the memory will be used until the recursion is finished\n",
    "The storage of intermediate results will help us in dynamic programming. We will see in DP lectures."
   ]
  },
  {
   "attachments": {},
   "cell_type": "markdown",
   "metadata": {},
   "source": [
    "The difference between recursion and iteration is \n",
    "1. Recursion is not space effiecient as it saves intermediate results as well\n",
    "2. Recursion is not time effiecient as it needs to time to save and delete the intermediate results from the memory\n",
    "3. Recursion is easy to code"
   ]
  },
  {
   "attachments": {},
   "cell_type": "markdown",
   "metadata": {},
   "source": [
    "Cases where recursion is useful:\n",
    "1. When to use recursion?\n",
    "    * Recursion can be used whenever a problem can be broken down into similar subproblems\n",
    "    * When we have a tree traversal problems\n"
   ]
  }
 ],
 "metadata": {
  "kernelspec": {
   "display_name": "Python 3",
   "language": "python",
   "name": "python3"
  },
  "language_info": {
   "name": "python",
   "version": "3.10.6"
  },
  "orig_nbformat": 4
 },
 "nbformat": 4,
 "nbformat_minor": 2
}
