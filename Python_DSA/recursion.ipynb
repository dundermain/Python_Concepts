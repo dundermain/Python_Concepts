{
 "cells": [
  {
   "cell_type": "code",
   "execution_count": null,
   "metadata": {},
   "outputs": [],
   "source": []
  },
  {
   "attachments": {},
   "cell_type": "markdown",
   "metadata": {},
   "source": [
    "Recursion would require a base case, a recursive function and exit case."
   ]
  },
  {
   "attachments": {},
   "cell_type": "markdown",
   "metadata": {},
   "source": [
    "ONe thing to remember here is that recursion saves or stores the outputs of each intermediate recursion step. Hence, the memory will be used until the recursion is finished\n",
    "The storage of intermediate results will help us in dynamic programming. We will see in DP lectures."
   ]
  }
 ],
 "metadata": {
  "language_info": {
   "name": "python"
  },
  "orig_nbformat": 4
 },
 "nbformat": 4,
 "nbformat_minor": 2
}
