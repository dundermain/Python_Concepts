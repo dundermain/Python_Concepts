{
 "cells": [
  {
   "attachments": {},
   "cell_type": "markdown",
   "metadata": {},
   "source": [
    "Recursion would require a base case, a recursive function and exit case."
   ]
  },
  {
   "attachments": {},
   "cell_type": "markdown",
   "metadata": {},
   "source": [
    "ONe thing to remember here is that recursion saves or stores the outputs of each intermediate recursion step. Hence, the memory will be used until the recursion is finished\n",
    "The storage of intermediate results will help us in dynamic programming. We will see in DP lectures."
   ]
  },
  {
   "attachments": {},
   "cell_type": "markdown",
   "metadata": {},
   "source": [
    "The difference between recursion and iteration is \n",
    "1. Recursion is not space effiecient as it saves intermediate results as well\n",
    "2. Recursion is not time effiecient as it needs to time to save and delete the intermediate results from the memory\n",
    "3. Recursion is easy to code"
   ]
  },
  {
   "attachments": {},
   "cell_type": "markdown",
   "metadata": {},
   "source": [
    "Cases where recursion is useful:\n",
    "1. When to use recursion?\n",
    "    * Recursion can be used whenever a problem can be broken down into similar subproblems\n",
    "    * When we have a tree traversal problems\n",
    "2. "
   ]
  }
 ],
 "metadata": {
  "language_info": {
   "name": "python"
  },
  "orig_nbformat": 4
 },
 "nbformat": 4,
 "nbformat_minor": 2
}
